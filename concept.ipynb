{
 "cells": [
  {
   "cell_type": "code",
   "execution_count": null,
   "metadata": {},
   "outputs": [],
   "source": [
    "'''Signal segmentation tomfoolery'''\n",
    "import scipy\n",
    "import pywt\n",
    "import numpy as np\n",
    "import matplotlib as mpl\n",
    "import matplotlib.pyplot as plt\n",
    "\n",
    "# generate sample signal\n",
    "t = np.linspace(-1, 1, 1000, endpoint=False)\n",
    "signal  = np.cos(2 * np.pi * 7 * t) + np.real(np.exp(-7*(t-0.4)**2)*np.exp(1j*2*np.pi*2*(t-0.4)))\n",
    "\n",
    "'''segmentation: uses signal as generated above'''\n",
    "signal_length = 60 # define signal length in seconds\n",
    "segment_length = 5 # in seconds\n",
    "splits_to_make = signal_length/segment_length #number of splits to make in the signal\n",
    "\n",
    "(a,b,c,d,e,f,g,h,i,j,k,l)= np.array_split(signal, splits_to_make) \n",
    "# np.array_split allows for an uneven split, unlike np.split sig as np array\n",
    "\n",
    "\n",
    "'''apply wavelet analysing function to signal segment --> scalogram'''\n",
    "# define wavelet widths\n",
    "widths = np.arange(1, 30)\n",
    "\n",
    "#(input, scale, wavelet type) 'x' is the 5s segment\n",
    "cwtmatr, freqs = pywt.cwt(j, widths, 'gaus1') \n",
    "\n",
    "'''plot without axes and save'''\n",
    "# first remove padding from the edges of the figure when saved by savefig. \n",
    "# this is important for both savefig() and show(). without this there's 0.1 inches of padding on the edges by default.\n",
    "mpl.rcParams['savefig.pad_inches'] = 0\n",
    "\n",
    "# Then set up the axes (the plot region, or the area in which to plot things).\n",
    "# Usually there's a thin border drawn around the axes, but we turn it off with `frameon=False`.\n",
    "ax = plt.axes([0,0,1,1], frameon=False)\n",
    "\n",
    "# Then disable the x and y axes completely.\n",
    "# If you just say plt.axis('off'), they're still used in the computation of the image padding.\n",
    "ax.get_xaxis().set_visible(False)\n",
    "ax.get_yaxis().set_visible(False)\n",
    "\n",
    "# Even though our axes (plot region) are set to cover the whole image with [0,0,1,1],\n",
    "# by default they STILL leave padding between the plotted data and the frame. \n",
    "# Utigher=True to make sure the data gets scaled to the full extents of the axes.\n",
    "plt.autoscale(tight=True)\n",
    "\n",
    "#generate scalogram\n",
    "plt.imshow(cwtmatr, extent=[-1, 1, 1, 31], cmap='seismic', aspect='auto', vmax=abs(cwtmatr).max(), vmin=-abs(cwtmatr).max())\n",
    "\n",
    "plt.savefig('scalograms/b.png', bbox_inches='tight', pad_inches=0)\n",
    "\n",
    "          \n",
    "# scipy.signal.welch(x, fs=1.0, window='hann', nperseg=None, noverlap=None, nfft=None, detrend='constant', \n",
    "#                    return_onesided=True, scaling='density', axis=-1, average='mean')"
   ]
  }
 ],
 "metadata": {
  "kernelspec": {
   "display_name": "Python 3",
   "language": "python",
   "name": "python3"
  },
  "language_info": {
   "codemirror_mode": {
    "name": "ipython",
    "version": 3
   },
   "file_extension": ".py",
   "mimetype": "text/x-python",
   "name": "python",
   "nbconvert_exporter": "python",
   "pygments_lexer": "ipython3",
   "version": "3.7.1"
  }
 },
 "nbformat": 4,
 "nbformat_minor": 2
}
